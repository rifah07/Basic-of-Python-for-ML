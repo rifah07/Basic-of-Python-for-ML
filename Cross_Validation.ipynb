{
 "cells": [
  {
   "cell_type": "markdown",
   "id": "13b10c21-b3de-48ee-86d9-e642f43bb42a",
   "metadata": {},
   "source": [
    "Using K-Neighbors-Classifier"
   ]
  },
  {
   "cell_type": "code",
   "execution_count": 61,
   "id": "1a89692a-899d-4339-b727-3b0aa692078b",
   "metadata": {},
   "outputs": [],
   "source": [
    "from sklearn.model_selection import cross_val_score\n",
    "from sklearn.datasets import load_iris\n",
    "from sklearn.neighbors import KNeighborsClassifier"
   ]
  },
  {
   "cell_type": "code",
   "execution_count": 62,
   "id": "c5d52530-0607-49c7-b91f-887a10a29988",
   "metadata": {},
   "outputs": [],
   "source": [
    "iris= load_iris()"
   ]
  },
  {
   "cell_type": "code",
   "execution_count": 63,
   "id": "a30c4281-b6ff-4577-a717-7afa0381b226",
   "metadata": {},
   "outputs": [],
   "source": [
    "X, Y = iris.data, iris.target"
   ]
  },
  {
   "cell_type": "code",
   "execution_count": 64,
   "id": "4c8ba876-06d0-4bf0-9f6b-97bcc7055994",
   "metadata": {},
   "outputs": [],
   "source": [
    "knn= KNeighborsClassifier(n_neighbors=3)"
   ]
  },
  {
   "cell_type": "code",
   "execution_count": 65,
   "id": "f00480e0-3b7f-4288-9d02-b5e7f762bb3a",
   "metadata": {},
   "outputs": [],
   "source": [
    "cv_scores= cross_val_score(knn, X, Y, cv=5)"
   ]
  },
  {
   "cell_type": "code",
   "execution_count": 66,
   "id": "189fec68-6454-4385-9ef5-4dec62ec348b",
   "metadata": {},
   "outputs": [
    {
     "name": "stdout",
     "output_type": "stream",
     "text": [
      "\n",
      "Cross Validation Scores: [0.96666667 0.96666667 0.93333333 0.96666667 1.        ]\n",
      "\n",
      "Mean CV Section: 0.9666666666666668\n",
      "\n"
     ]
    }
   ],
   "source": [
    "print(f\"\\nCross Validation Scores: {cv_scores}\")\n",
    "print(f\"\\nMean CV Section: {cv_scores.mean()}\\n\")"
   ]
  },
  {
   "cell_type": "markdown",
   "id": "90a8f2b5-906b-47b6-8cfd-1317a63788f9",
   "metadata": {},
   "source": [
    "Using K-Fold and Desicion Tree Classifier"
   ]
  },
  {
   "cell_type": "code",
   "execution_count": 67,
   "id": "26d52d66-9b21-4644-9e3e-8b2dd1a6cbeb",
   "metadata": {},
   "outputs": [],
   "source": [
    "from sklearn.tree import DecisionTreeClassifier\n",
    "from sklearn.model_selection import KFold"
   ]
  },
  {
   "cell_type": "code",
   "execution_count": 68,
   "id": "5d0733f5-2921-4044-91a8-b2342f26beed",
   "metadata": {},
   "outputs": [],
   "source": [
    "clf= DecisionTreeClassifier(random_state=42)"
   ]
  },
  {
   "cell_type": "code",
   "execution_count": 69,
   "id": "ffe7a318-a89a-4622-9c6c-70f6fd38c0f1",
   "metadata": {},
   "outputs": [],
   "source": [
    "kfolds= KFold(n_splits=5)\n",
    "kfold_cv_scores= cross_val_score(clf, X, Y, cv= kfolds)"
   ]
  },
  {
   "cell_type": "code",
   "execution_count": 70,
   "id": "0cb29c49-930b-4417-bfee-b7ac87c02819",
   "metadata": {},
   "outputs": [
    {
     "name": "stdout",
     "output_type": "stream",
     "text": [
      "Cross Validation Scores by using K-Fold: [1.         1.         0.83333333 0.93333333 0.8       ]\n",
      "\n",
      "Average CV Scores: 0.9133333333333333\n",
      "\n",
      "Number of CV Scores used in Average: 5\n",
      "\n"
     ]
    }
   ],
   "source": [
    "print(f\"Cross Validation Scores by using K-Fold: {kfold_cv_scores}\")\n",
    "print(f\"\\nAverage CV Scores: {kfold_cv_scores.mean()}\")\n",
    "print(f\"\\nNumber of CV Scores used in Average: {len(kfold_cv_scores)}\\n\")"
   ]
  },
  {
   "cell_type": "markdown",
   "id": "f84d042f-e97d-4588-8e8c-5327520093f4",
   "metadata": {},
   "source": [
    "Using Stratified K-Fold"
   ]
  },
  {
   "cell_type": "markdown",
   "id": "d335cd11-6f7a-48d0-858b-50cdc38836b6",
   "metadata": {},
   "source": [
    "In cases where classes are imbalanced we need a way to account for the imbalance in both the train and validation sets. To do so we can stratify the target classes, meaning that both sets will have an equal proportion of all classes."
   ]
  },
  {
   "cell_type": "code",
   "execution_count": 71,
   "id": "1e16b94f-88ae-4b77-a646-c6efea62c9bc",
   "metadata": {},
   "outputs": [],
   "source": [
    "from sklearn.model_selection import StratifiedKFold"
   ]
  },
  {
   "cell_type": "code",
   "execution_count": 72,
   "id": "2a4e4634-99b8-45a4-89f3-73f5d8e8b73f",
   "metadata": {},
   "outputs": [],
   "source": [
    "sk_folds= StratifiedKFold(n_splits=5)"
   ]
  },
  {
   "cell_type": "code",
   "execution_count": 73,
   "id": "113b4d06-b202-483f-baba-646ecb419ee1",
   "metadata": {},
   "outputs": [],
   "source": [
    "sk_folds_cv_scores= cross_val_score(clf, X, Y, cv=sk_folds)"
   ]
  },
  {
   "cell_type": "code",
   "execution_count": 74,
   "id": "613b61b6-6833-4f21-80f5-8bb3a6801627",
   "metadata": {},
   "outputs": [
    {
     "name": "stdout",
     "output_type": "stream",
     "text": [
      "Cross Validation Scores by using SK-Fold: [0.96666667 0.96666667 0.9        0.93333333 1.        ]\n",
      "\n",
      "Average CV Scores: 0.9533333333333334\n",
      "\n",
      "Number of CV Scores used in Average: 5\n",
      "\n"
     ]
    }
   ],
   "source": [
    "print(f\"Cross Validation Scores by using SK-Fold: {sk_folds_cv_scores}\")\n",
    "print(f\"\\nAverage CV Scores: {sk_folds_cv_scores.mean()}\")\n",
    "print(f\"\\nNumber of CV Scores used in Average: {len(sk_folds_cv_scores)}\\n\")"
   ]
  }
 ],
 "metadata": {
  "kernelspec": {
   "display_name": "Python 3 (ipykernel)",
   "language": "python",
   "name": "python3"
  },
  "language_info": {
   "codemirror_mode": {
    "name": "ipython",
    "version": 3
   },
   "file_extension": ".py",
   "mimetype": "text/x-python",
   "name": "python",
   "nbconvert_exporter": "python",
   "pygments_lexer": "ipython3",
   "version": "3.10.12"
  }
 },
 "nbformat": 4,
 "nbformat_minor": 5
}
