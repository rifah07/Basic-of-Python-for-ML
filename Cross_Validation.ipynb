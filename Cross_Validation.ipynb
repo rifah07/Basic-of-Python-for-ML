{
 "cells": [
  {
   "cell_type": "markdown",
   "id": "13b10c21-b3de-48ee-86d9-e642f43bb42a",
   "metadata": {},
   "source": [
    "Using K-Neighbors-Classifier"
   ]
  },
  {
   "cell_type": "code",
   "execution_count": 1,
   "id": "1a89692a-899d-4339-b727-3b0aa692078b",
   "metadata": {},
   "outputs": [],
   "source": [
    "from sklearn.model_selection import cross_val_score\n",
    "from sklearn.datasets import load_iris\n",
    "from sklearn.neighbors import KNeighborsClassifier"
   ]
  },
  {
   "cell_type": "code",
   "execution_count": 2,
   "id": "c5d52530-0607-49c7-b91f-887a10a29988",
   "metadata": {},
   "outputs": [],
   "source": [
    "iris= load_iris()"
   ]
  },
  {
   "cell_type": "code",
   "execution_count": 3,
   "id": "a30c4281-b6ff-4577-a717-7afa0381b226",
   "metadata": {},
   "outputs": [],
   "source": [
    "X, Y = iris.data, iris.target"
   ]
  },
  {
   "cell_type": "code",
   "execution_count": 4,
   "id": "4c8ba876-06d0-4bf0-9f6b-97bcc7055994",
   "metadata": {},
   "outputs": [],
   "source": [
    "knn= KNeighborsClassifier(n_neighbors=3)"
   ]
  },
  {
   "cell_type": "code",
   "execution_count": 5,
   "id": "f00480e0-3b7f-4288-9d02-b5e7f762bb3a",
   "metadata": {},
   "outputs": [],
   "source": [
    "cv_scores= cross_val_score(knn, X, Y, cv=5)"
   ]
  },
  {
   "cell_type": "code",
   "execution_count": 6,
   "id": "189fec68-6454-4385-9ef5-4dec62ec348b",
   "metadata": {},
   "outputs": [
    {
     "name": "stdout",
     "output_type": "stream",
     "text": [
      "\n",
      "Cross Validation Scores: [0.96666667 0.96666667 0.93333333 0.96666667 1.        ]\n",
      "\n",
      "Mean CV Section: 0.9666666666666668\n",
      "\n"
     ]
    }
   ],
   "source": [
    "print(f\"\\nCross Validation Scores: {cv_scores}\")\n",
    "print(f\"\\nMean CV Section: {cv_scores.mean()}\\n\")"
   ]
  },
  {
   "cell_type": "markdown",
   "id": "90a8f2b5-906b-47b6-8cfd-1317a63788f9",
   "metadata": {},
   "source": [
    "Using K-Fold and Desicion Tree Classifier"
   ]
  },
  {
   "cell_type": "code",
   "execution_count": 7,
   "id": "26d52d66-9b21-4644-9e3e-8b2dd1a6cbeb",
   "metadata": {},
   "outputs": [],
   "source": [
    "from sklearn.tree import DecisionTreeClassifier\n",
    "from sklearn.model_selection import KFold"
   ]
  },
  {
   "cell_type": "code",
   "execution_count": 8,
   "id": "5d0733f5-2921-4044-91a8-b2342f26beed",
   "metadata": {},
   "outputs": [],
   "source": [
    "clf= DecisionTreeClassifier(random_state=42)"
   ]
  },
  {
   "cell_type": "code",
   "execution_count": 9,
   "id": "ffe7a318-a89a-4622-9c6c-70f6fd38c0f1",
   "metadata": {},
   "outputs": [],
   "source": [
    "kfolds= KFold(n_splits=5)\n",
    "kfold_cv_scores= cross_val_score(clf, X, Y, cv= kfolds)"
   ]
  },
  {
   "cell_type": "code",
   "execution_count": 10,
   "id": "0cb29c49-930b-4417-bfee-b7ac87c02819",
   "metadata": {},
   "outputs": [
    {
     "name": "stdout",
     "output_type": "stream",
     "text": [
      "Cross Validation Scores by using K-Fold: [1.         1.         0.83333333 0.93333333 0.8       ]\n",
      "\n",
      "Average CV Scores: 0.9133333333333333\n",
      "\n",
      "Number of CV Scores used in Average: 5\n",
      "\n"
     ]
    }
   ],
   "source": [
    "print(f\"Cross Validation Scores by using K-Fold: {kfold_cv_scores}\")\n",
    "print(f\"\\nAverage CV Scores: {kfold_cv_scores.mean()}\")\n",
    "print(f\"\\nNumber of CV Scores used in Average: {len(kfold_cv_scores)}\\n\")"
   ]
  },
  {
   "cell_type": "markdown",
   "id": "f84d042f-e97d-4588-8e8c-5327520093f4",
   "metadata": {},
   "source": [
    "Using Stratified K-Fold"
   ]
  },
  {
   "cell_type": "markdown",
   "id": "d335cd11-6f7a-48d0-858b-50cdc38836b6",
   "metadata": {},
   "source": [
    "In cases where classes are imbalanced we need a way to account for the imbalance in both the train and validation sets. To do so we can stratify the target classes, meaning that both sets will have an equal proportion of all classes."
   ]
  },
  {
   "cell_type": "code",
   "execution_count": 11,
   "id": "1e16b94f-88ae-4b77-a646-c6efea62c9bc",
   "metadata": {},
   "outputs": [],
   "source": [
    "from sklearn.model_selection import StratifiedKFold"
   ]
  },
  {
   "cell_type": "code",
   "execution_count": 12,
   "id": "2a4e4634-99b8-45a4-89f3-73f5d8e8b73f",
   "metadata": {},
   "outputs": [],
   "source": [
    "sk_folds= StratifiedKFold(n_splits=5)"
   ]
  },
  {
   "cell_type": "code",
   "execution_count": 13,
   "id": "113b4d06-b202-483f-baba-646ecb419ee1",
   "metadata": {},
   "outputs": [],
   "source": [
    "sk_folds_cv_scores= cross_val_score(clf, X, Y, cv=sk_folds)"
   ]
  },
  {
   "cell_type": "markdown",
   "id": "25d61257-2673-4eb6-832d-482b1d78d2bc",
   "metadata": {},
   "source": [
    "print(f\"Cross Validation Scores by using SK-Fold: {sk_folds_cv_scores}\")\n",
    "print(f\"\\nAverage CV Scores: {sk_folds_cv_scores.mean()}\")\n",
    "print(f\"\\nNumber of CV Scores used in Average: {len(sk_folds_cv_scores)}\\n\")"
   ]
  },
  {
   "cell_type": "markdown",
   "id": "28d7f649-dd22-4b38-8403-68c1e7d98edc",
   "metadata": {},
   "source": [
    "Using Leave-One-Out (LOO)"
   ]
  },
  {
   "cell_type": "markdown",
   "id": "762f7dcc-c9c4-4400-ab7a-e079426b2b7f",
   "metadata": {},
   "source": [
    "Instead of selecting the number of splits in the training data set like k-fold LeaveOneOut, utilize 1 observation to validate and n-1 observations to train. This method is an exaustive technique."
   ]
  },
  {
   "cell_type": "code",
   "execution_count": 14,
   "id": "e9817901-205f-4181-901d-ceb9c9cd6afb",
   "metadata": {},
   "outputs": [],
   "source": [
    "from sklearn.model_selection import LeaveOneOut"
   ]
  },
  {
   "cell_type": "code",
   "execution_count": 15,
   "id": "299a891f-f9d1-4d4c-9980-791e4da6a22e",
   "metadata": {},
   "outputs": [],
   "source": [
    "loo= LeaveOneOut()"
   ]
  },
  {
   "cell_type": "code",
   "execution_count": 16,
   "id": "8f6d37b8-dc68-4bf5-9e4f-9ef9a53e3149",
   "metadata": {},
   "outputs": [],
   "source": [
    "loo_cv_score= cross_val_score(clf, X, Y, cv=loo)"
   ]
  },
  {
   "cell_type": "code",
   "execution_count": 17,
   "id": "d188863e-ec4b-4079-8fa1-71b854d004cc",
   "metadata": {},
   "outputs": [
    {
     "name": "stdout",
     "output_type": "stream",
     "text": [
      "Cross Validation Scores by using Leave-One-Out: [1. 1. 1. 1. 1. 1. 1. 1. 1. 1. 1. 1. 1. 1. 1. 1. 1. 1. 1. 1. 1. 1. 1. 1.\n",
      " 1. 1. 1. 1. 1. 1. 1. 1. 1. 1. 1. 1. 1. 1. 1. 1. 1. 1. 1. 1. 1. 1. 1. 1.\n",
      " 1. 1. 1. 1. 1. 1. 1. 1. 1. 0. 1. 1. 1. 1. 1. 1. 1. 1. 1. 1. 1. 1. 0. 1.\n",
      " 1. 1. 1. 1. 1. 0. 1. 1. 1. 1. 1. 0. 1. 1. 1. 1. 1. 1. 1. 1. 1. 1. 1. 1.\n",
      " 1. 1. 1. 1. 1. 1. 1. 1. 1. 1. 0. 1. 1. 1. 1. 1. 1. 1. 1. 1. 1. 1. 1. 0.\n",
      " 1. 1. 1. 1. 1. 1. 1. 1. 1. 0. 1. 1. 1. 0. 1. 1. 1. 1. 0. 1. 1. 1. 1. 1.\n",
      " 1. 1. 1. 1. 1. 1.]\n",
      "\n",
      "Average CV Scores: 0.94\n",
      "\n",
      "Number of CV Scores used in Average: 150\n",
      "\n"
     ]
    }
   ],
   "source": [
    "print(f\"Cross Validation Scores by using Leave-One-Out: {loo_cv_score}\")\n",
    "print(f\"\\nAverage CV Scores: {loo_cv_score.mean()}\")\n",
    "print(f\"\\nNumber of CV Scores used in Average: {len(loo_cv_score)}\\n\")"
   ]
  },
  {
   "cell_type": "markdown",
   "id": "57b87569-7a65-4a39-8ac9-6e0edba4b20b",
   "metadata": {},
   "source": [
    "Using Leave-P-Out"
   ]
  },
  {
   "cell_type": "markdown",
   "id": "f974617c-641c-4787-9cdb-412697ba33bf",
   "metadata": {},
   "source": [
    "Leave-P-Out is simply a nuanced diffence to the Leave-One-Out idea, in that we can select the number of p to use in our validation set."
   ]
  },
  {
   "cell_type": "code",
   "execution_count": 18,
   "id": "f4dde187-e16f-4c31-828b-c7dfa0b55438",
   "metadata": {},
   "outputs": [],
   "source": [
    "from sklearn.model_selection import LeavePOut"
   ]
  },
  {
   "cell_type": "code",
   "execution_count": 19,
   "id": "c946e431-4634-4e78-b965-6c94feff5a85",
   "metadata": {},
   "outputs": [],
   "source": [
    "lpo= LeavePOut(p=2)"
   ]
  },
  {
   "cell_type": "code",
   "execution_count": 20,
   "id": "1c19c6c7-6c1a-40bb-9d6d-58cb5b86a82e",
   "metadata": {},
   "outputs": [],
   "source": [
    "lpo_cv_score= cross_val_score(clf, X,Y, cv=lpo)"
   ]
  },
  {
   "cell_type": "code",
   "execution_count": 21,
   "id": "83531707-0a81-4e1a-8f6a-cda7d457220b",
   "metadata": {},
   "outputs": [
    {
     "name": "stdout",
     "output_type": "stream",
     "text": [
      "Cross Validation Scores by using Leave-P-Out: [1. 1. 1. ... 1. 1. 1.]\n",
      "\n",
      "Average CV Scores: 0.9382997762863534\n",
      "\n",
      "Number of CV Scores used in Average: 11175\n",
      "\n"
     ]
    }
   ],
   "source": [
    "print(f\"Cross Validation Scores by using Leave-P-Out: {lpo_cv_score}\")\n",
    "print(f\"\\nAverage CV Scores: {lpo_cv_score.mean()}\")\n",
    "print(f\"\\nNumber of CV Scores used in Average: {len(lpo_cv_score)}\\n\")"
   ]
  },
  {
   "cell_type": "markdown",
   "id": "619a54eb-88f0-482f-bfd3-1bd18c6fbfe0",
   "metadata": {},
   "source": [
    "Using Shuffle Split"
   ]
  },
  {
   "cell_type": "markdown",
   "id": "73025a42-cd20-4156-b3d3-b84081ad5925",
   "metadata": {},
   "source": [
    "Unlike KFold, ShuffleSplit leaves out a percentage of the data, not to be used in the train or validation sets. To do so we must decide what the train and test sizes are, as well as the number of splits."
   ]
  },
  {
   "cell_type": "code",
   "execution_count": 22,
   "id": "0e655a2b-5902-44a2-ae4e-37905bf30d1e",
   "metadata": {},
   "outputs": [],
   "source": [
    "from sklearn.model_selection import ShuffleSplit"
   ]
  },
  {
   "cell_type": "code",
   "execution_count": 23,
   "id": "a049339c-ea43-4110-b627-fadb63b8f4ce",
   "metadata": {},
   "outputs": [],
   "source": [
    "shs= ShuffleSplit(train_size=0.6, test_size=0.3, n_splits=5)"
   ]
  },
  {
   "cell_type": "code",
   "execution_count": 24,
   "id": "226815cd-481b-4821-9e22-74577923681e",
   "metadata": {},
   "outputs": [],
   "source": [
    "shs_cv_score= cross_val_score(clf, X, Y, cv=shs)"
   ]
  },
  {
   "cell_type": "code",
   "execution_count": 25,
   "id": "9a70ec6c-cf34-4ad8-a59c-875b152df316",
   "metadata": {},
   "outputs": [
    {
     "name": "stdout",
     "output_type": "stream",
     "text": [
      "Cross Validation Scores by using Shuffle-Split: [0.91111111 0.93333333 0.95555556 0.93333333 0.93333333]\n",
      "\n",
      "Average CV Scores: 0.9333333333333333\n",
      "\n",
      "Number of CV Scores used in Average: 5\n",
      "\n"
     ]
    }
   ],
   "source": [
    "print(f\"Cross Validation Scores by using Shuffle-Split: {shs_cv_score}\")\n",
    "print(f\"\\nAverage CV Scores: {shs_cv_score.mean()}\")\n",
    "print(f\"\\nNumber of CV Scores used in Average: {len(shs_cv_score)}\\n\")"
   ]
  }
 ],
 "metadata": {
  "kernelspec": {
   "display_name": "Python 3 (ipykernel)",
   "language": "python",
   "name": "python3"
  },
  "language_info": {
   "codemirror_mode": {
    "name": "ipython",
    "version": 3
   },
   "file_extension": ".py",
   "mimetype": "text/x-python",
   "name": "python",
   "nbconvert_exporter": "python",
   "pygments_lexer": "ipython3",
   "version": "3.10.12"
  }
 },
 "nbformat": 4,
 "nbformat_minor": 5
}
