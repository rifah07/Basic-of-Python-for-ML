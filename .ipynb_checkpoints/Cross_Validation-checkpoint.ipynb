{
 "cells": [
  {
   "cell_type": "code",
   "execution_count": 1,
   "id": "1a89692a-899d-4339-b727-3b0aa692078b",
   "metadata": {},
   "outputs": [],
   "source": [
    "from sklearn.model_selection import cross_val_score\n",
    "from sklearn.datasets import load_iris\n",
    "from sklearn.neighbors import KNeighborsClassifier"
   ]
  },
  {
   "cell_type": "code",
   "execution_count": 2,
   "id": "c5d52530-0607-49c7-b91f-887a10a29988",
   "metadata": {},
   "outputs": [],
   "source": [
    "iris= load_iris()"
   ]
  },
  {
   "cell_type": "code",
   "execution_count": 3,
   "id": "a30c4281-b6ff-4577-a717-7afa0381b226",
   "metadata": {},
   "outputs": [],
   "source": [
    "X, Y = iris.data, iris.target"
   ]
  },
  {
   "cell_type": "code",
   "execution_count": 4,
   "id": "4c8ba876-06d0-4bf0-9f6b-97bcc7055994",
   "metadata": {},
   "outputs": [],
   "source": [
    "knn= KNeighborsClassifier(n_neighbors=3)"
   ]
  },
  {
   "cell_type": "code",
   "execution_count": 5,
   "id": "f00480e0-3b7f-4288-9d02-b5e7f762bb3a",
   "metadata": {},
   "outputs": [],
   "source": [
    "cv_scores= cross_val_score(knn, X, Y, cv=5)"
   ]
  },
  {
   "cell_type": "code",
   "execution_count": 6,
   "id": "189fec68-6454-4385-9ef5-4dec62ec348b",
   "metadata": {},
   "outputs": [
    {
     "name": "stdout",
     "output_type": "stream",
     "text": [
      "Cross Validation Scores: [0.96666667 0.96666667 0.93333333 0.96666667 1.        ]\n",
      "\n",
      "Mean CV Section: 0.9666666666666668\n"
     ]
    }
   ],
   "source": [
    "print(f\"Cross Validation Scores: {cv_scores}\")\n",
    "print(f\"\\nMean CV Section: {cv_scores.mean()}\")"
   ]
  }
 ],
 "metadata": {
  "kernelspec": {
   "display_name": "Python 3 (ipykernel)",
   "language": "python",
   "name": "python3"
  },
  "language_info": {
   "codemirror_mode": {
    "name": "ipython",
    "version": 3
   },
   "file_extension": ".py",
   "mimetype": "text/x-python",
   "name": "python",
   "nbconvert_exporter": "python",
   "pygments_lexer": "ipython3",
   "version": "3.10.12"
  }
 },
 "nbformat": 4,
 "nbformat_minor": 5
}
