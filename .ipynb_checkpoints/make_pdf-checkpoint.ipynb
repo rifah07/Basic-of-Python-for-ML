{
 "cells": [
  {
   "cell_type": "markdown",
   "id": "3c19b214-a5db-458e-ae45-bf715233ea06",
   "metadata": {},
   "source": [
    " !pip install reportlab "
   ]
  },
  {
   "cell_type": "code",
   "execution_count": 1,
   "id": "49389930-a7d3-4277-b825-b387575b2bff",
   "metadata": {},
   "outputs": [],
   "source": [
    "from reportlab.pdfgen import canvas"
   ]
  },
  {
   "cell_type": "code",
   "execution_count": 2,
   "id": "2340d068-b545-4a6a-b6a2-7b65ae52687d",
   "metadata": {},
   "outputs": [],
   "source": [
    "pdf_file= canvas.Canvas(\"pdfbypython.pdf\")"
   ]
  },
  {
   "cell_type": "code",
   "execution_count": 3,
   "id": "6ad92f9e-a295-43df-81b6-40bb2f4ca6b0",
   "metadata": {},
   "outputs": [],
   "source": [
    "pdf_file.drawString(72,720, \"Starting\")\n",
    "pdf_file.drawString(72,700, \"It's a pdf Document \")\n",
    "pdf_file.drawString(72,680, \"Ending\")"
   ]
  },
  {
   "cell_type": "code",
   "execution_count": 4,
   "id": "abd8bfd6-e953-46f2-9387-18c03a35ce0e",
   "metadata": {},
   "outputs": [],
   "source": [
    "pdf_file.save()"
   ]
  }
 ],
 "metadata": {
  "kernelspec": {
   "display_name": "Python 3 (ipykernel)",
   "language": "python",
   "name": "python3"
  },
  "language_info": {
   "codemirror_mode": {
    "name": "ipython",
    "version": 3
   },
   "file_extension": ".py",
   "mimetype": "text/x-python",
   "name": "python",
   "nbconvert_exporter": "python",
   "pygments_lexer": "ipython3",
   "version": "3.10.12"
  }
 },
 "nbformat": 4,
 "nbformat_minor": 5
}
