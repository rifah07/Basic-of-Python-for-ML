{
 "cells": [
  {
   "cell_type": "code",
   "execution_count": 1,
   "id": "fa35226d-ea4f-4bfe-9dbf-827014bbf598",
   "metadata": {},
   "outputs": [
    {
     "name": "stdout",
     "output_type": "stream",
     "text": [
      "Requirement already satisfied: textblob in /home/rifah/myenv/lib/python3.10/site-packages (0.18.0.post0)\n",
      "Requirement already satisfied: nltk>=3.8 in /home/rifah/myenv/lib/python3.10/site-packages (from textblob) (3.9.1)\n",
      "Requirement already satisfied: click in /home/rifah/myenv/lib/python3.10/site-packages (from nltk>=3.8->textblob) (8.1.7)\n",
      "Requirement already satisfied: joblib in /home/rifah/myenv/lib/python3.10/site-packages (from nltk>=3.8->textblob) (1.4.2)\n",
      "Requirement already satisfied: regex>=2021.8.3 in /home/rifah/myenv/lib/python3.10/site-packages (from nltk>=3.8->textblob) (2024.11.6)\n",
      "Requirement already satisfied: tqdm in /home/rifah/myenv/lib/python3.10/site-packages (from nltk>=3.8->textblob) (4.67.1)\n",
      "Note: you may need to restart the kernel to use updated packages.\n"
     ]
    }
   ],
   "source": [
    "pip install textblob"
   ]
  },
  {
   "cell_type": "code",
   "execution_count": 8,
   "id": "9ea2cfed-a682-42fc-9558-c90e7c0b4006",
   "metadata": {},
   "outputs": [],
   "source": [
    "from textblob import TextBlob"
   ]
  },
  {
   "cell_type": "code",
   "execution_count": 9,
   "id": "0d5d5b0f-ef82-42b7-8ccd-6c7a25f9202d",
   "metadata": {},
   "outputs": [],
   "source": [
    "#wrong spelling\n",
    "blob= TextBlob(\"Thes is too guud\")\n",
    "\n",
    "#correct the spell\n",
    "corr_blob= blob.correct()"
   ]
  },
  {
   "cell_type": "code",
   "execution_count": 10,
   "id": "3003d376-10d4-406d-9565-75e61c403666",
   "metadata": {},
   "outputs": [
    {
     "name": "stdout",
     "output_type": "stream",
     "text": [
      "Original text: Thes is too guud\n",
      "Corrected text: The is too good\n"
     ]
    }
   ],
   "source": [
    "print(f\"Original text: {blob}\")\n",
    "print(f\"Corrected text: {corr_blob}\")"
   ]
  },
  {
   "cell_type": "code",
   "execution_count": 15,
   "id": "20c1b792-10e7-4002-94a7-054362b52b95",
   "metadata": {},
   "outputs": [
    {
     "name": "stdin",
     "output_type": "stream",
     "text": [
      "Enter a text with misspelled word(s): I lovve miself\n"
     ]
    },
    {
     "name": "stdout",
     "output_type": "stream",
     "text": [
      "Corrected text: I love myself\n"
     ]
    }
   ],
   "source": [
    "#now take user input\n",
    "corr_blob= input(\"Enter a text with misspelled word(s):\")\n",
    "\n",
    "blob= TextBlob(corr_blob)\n",
    "\n",
    "corr_blob=blob.correct()\n",
    "\n",
    "print(f\"Corrected text: {corr_blob}\")"
   ]
  }
 ],
 "metadata": {
  "kernelspec": {
   "display_name": "Python 3 (ipykernel)",
   "language": "python",
   "name": "python3"
  },
  "language_info": {
   "codemirror_mode": {
    "name": "ipython",
    "version": 3
   },
   "file_extension": ".py",
   "mimetype": "text/x-python",
   "name": "python",
   "nbconvert_exporter": "python",
   "pygments_lexer": "ipython3",
   "version": "3.10.12"
  }
 },
 "nbformat": 4,
 "nbformat_minor": 5
}
