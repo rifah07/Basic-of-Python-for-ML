{
 "cells": [
  {
   "cell_type": "code",
   "execution_count": 1,
   "id": "a673ab42-54f5-44c1-8546-328e593ebae3",
   "metadata": {},
   "outputs": [
    {
     "name": "stdout",
     "output_type": "stream",
     "text": [
      "Requirement already satisfied: google in /home/rifah/myenv/lib/python3.10/site-packages (3.0.0)\n",
      "Requirement already satisfied: beautifulsoup4 in /home/rifah/myenv/lib/python3.10/site-packages (from google) (4.12.3)\n",
      "Requirement already satisfied: soupsieve>1.2 in /home/rifah/myenv/lib/python3.10/site-packages (from beautifulsoup4->google) (2.6)\n",
      "Note: you may need to restart the kernel to use updated packages.\n"
     ]
    }
   ],
   "source": [
    "pip install google"
   ]
  },
  {
   "cell_type": "code",
   "execution_count": 2,
   "id": "9817d371-fb72-4450-9947-7eabff836c41",
   "metadata": {},
   "outputs": [],
   "source": [
    "from googlesearch import search"
   ]
  },
  {
   "cell_type": "code",
   "execution_count": null,
   "id": "05651648-d8db-4908-bb12-6ee1918a6201",
   "metadata": {},
   "outputs": [
    {
     "name": "stdin",
     "output_type": "stream",
     "text": [
      "Ask something to search apple\n"
     ]
    },
    {
     "name": "stdout",
     "output_type": "stream",
     "text": [
      "https://www.apple.com/\n",
      "https://en.wikipedia.org/wiki/Apple_Inc.\n",
      "https://www.icloud.com/\n",
      "https://www.applegadgetsbd.com/\n",
      "http://www.apple.com/\n",
      "http://t1.gstatic.com/images?q=tbn:ANd9GcSjoU2lZ2eJX3aCMfiFDt39uRNcDu9W7pTKcyZymE2iKa7IOVaI\n",
      "https://www.instagram.com/apple/\n",
      "https://www.youtube.com/apple\n",
      "https://www.facebook.com/apple/\n",
      "https://twitter.com/apple?lang=en\n",
      "https://www.amazon.com/stores/Apple/Apple/page/77D9E1F7-0337-4282-9DB6-B6B8FB2DC98D\n",
      "https://istorebd.net/\n",
      "https://www.forbes.com/sites/zakdoffman/2024/12/07/apples-surprising-iphone-update-green-bubbles-end-next-week/\n",
      "https://www.startech.com.bd/apple?srsltid=AfmBOor2rJSsccMZ7QYKY_d3u1mTvwLrwec38_w8bo5hY75Bf429D97-\n",
      "https://www.bbc.com/future/article/20241205-the-apple-library-with-a-lost-world-on-its-limbs\n",
      "https://www.icloud.com/find/\n",
      "https://www.jbhifi.com.au/pages/apple\n",
      "https://appleinsider.com/\n",
      "https://www.youtube.com/watch?v=uarNiSl_uh4\n"
     ]
    }
   ],
   "source": [
    "query= input(\"Ask something to search\")\n",
    "\n",
    "for url in search(query):\n",
    "    print(url)\n",
    "\n",
    "#code from clcoding.com"
   ]
  }
 ],
 "metadata": {
  "kernelspec": {
   "display_name": "Python 3 (ipykernel)",
   "language": "python",
   "name": "python3"
  },
  "language_info": {
   "codemirror_mode": {
    "name": "ipython",
    "version": 3
   },
   "file_extension": ".py",
   "mimetype": "text/x-python",
   "name": "python",
   "nbconvert_exporter": "python",
   "pygments_lexer": "ipython3",
   "version": "3.10.12"
  }
 },
 "nbformat": 4,
 "nbformat_minor": 5
}
