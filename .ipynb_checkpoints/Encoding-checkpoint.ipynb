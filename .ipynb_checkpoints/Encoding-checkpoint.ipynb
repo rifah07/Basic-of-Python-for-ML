{
 "cells": [
  {
   "cell_type": "markdown",
   "id": "cd199195-ffc7-4a5b-898b-04c8965cf05a",
   "metadata": {},
   "source": [
    "One Hot Encoding."
   ]
  },
  {
   "cell_type": "markdown",
   "id": "e4cc8298-28e2-465a-83b4-883ead699959",
   "metadata": {},
   "source": [
    "Note: It converts categorical data into a binary vector of zeros and ones."
   ]
  },
  {
   "cell_type": "code",
   "execution_count": 18,
   "id": "310bf6c9-5148-4c1f-887b-8c25ce16c3ac",
   "metadata": {},
   "outputs": [],
   "source": [
    "import pandas as pd\n",
    "from sklearn.preprocessing import OneHotEncoder"
   ]
  },
  {
   "cell_type": "code",
   "execution_count": 19,
   "id": "e87270a9-3271-4b4b-8942-328a6e3c086c",
   "metadata": {},
   "outputs": [
    {
     "data": {
      "text/html": [
       "<div>\n",
       "<style scoped>\n",
       "    .dataframe tbody tr th:only-of-type {\n",
       "        vertical-align: middle;\n",
       "    }\n",
       "\n",
       "    .dataframe tbody tr th {\n",
       "        vertical-align: top;\n",
       "    }\n",
       "\n",
       "    .dataframe thead th {\n",
       "        text-align: right;\n",
       "    }\n",
       "</style>\n",
       "<table border=\"1\" class=\"dataframe\">\n",
       "  <thead>\n",
       "    <tr style=\"text-align: right;\">\n",
       "      <th></th>\n",
       "      <th>language</th>\n",
       "    </tr>\n",
       "  </thead>\n",
       "  <tbody>\n",
       "    <tr>\n",
       "      <th>0</th>\n",
       "      <td>Bangali</td>\n",
       "    </tr>\n",
       "    <tr>\n",
       "      <th>1</th>\n",
       "      <td>English</td>\n",
       "    </tr>\n",
       "    <tr>\n",
       "      <th>2</th>\n",
       "      <td>Armenian</td>\n",
       "    </tr>\n",
       "    <tr>\n",
       "      <th>3</th>\n",
       "      <td>Russian</td>\n",
       "    </tr>\n",
       "    <tr>\n",
       "      <th>4</th>\n",
       "      <td>Pahari</td>\n",
       "    </tr>\n",
       "    <tr>\n",
       "      <th>5</th>\n",
       "      <td>Nepali</td>\n",
       "    </tr>\n",
       "  </tbody>\n",
       "</table>\n",
       "</div>"
      ],
      "text/plain": [
       "   language\n",
       "0   Bangali\n",
       "1   English\n",
       "2  Armenian\n",
       "3   Russian\n",
       "4    Pahari\n",
       "5    Nepali"
      ]
     },
     "execution_count": 19,
     "metadata": {},
     "output_type": "execute_result"
    }
   ],
   "source": [
    "data= {'language': ['Bangali', 'English', 'Armenian', 'Russian', 'Pahari', 'Nepali']}\n",
    "df= pd.DataFrame(data)\n",
    "df"
   ]
  },
  {
   "cell_type": "code",
   "execution_count": 20,
   "id": "0d0a3059-dfd3-41c1-873f-1d3534107f9b",
   "metadata": {},
   "outputs": [
    {
     "data": {
      "text/html": [
       "<div>\n",
       "<style scoped>\n",
       "    .dataframe tbody tr th:only-of-type {\n",
       "        vertical-align: middle;\n",
       "    }\n",
       "\n",
       "    .dataframe tbody tr th {\n",
       "        vertical-align: top;\n",
       "    }\n",
       "\n",
       "    .dataframe thead th {\n",
       "        text-align: right;\n",
       "    }\n",
       "</style>\n",
       "<table border=\"1\" class=\"dataframe\">\n",
       "  <thead>\n",
       "    <tr style=\"text-align: right;\">\n",
       "      <th></th>\n",
       "      <th>language_Armenian</th>\n",
       "      <th>language_Bangali</th>\n",
       "      <th>language_English</th>\n",
       "      <th>language_Nepali</th>\n",
       "      <th>language_Pahari</th>\n",
       "      <th>language_Russian</th>\n",
       "    </tr>\n",
       "  </thead>\n",
       "  <tbody>\n",
       "    <tr>\n",
       "      <th>0</th>\n",
       "      <td>0.0</td>\n",
       "      <td>1.0</td>\n",
       "      <td>0.0</td>\n",
       "      <td>0.0</td>\n",
       "      <td>0.0</td>\n",
       "      <td>0.0</td>\n",
       "    </tr>\n",
       "    <tr>\n",
       "      <th>1</th>\n",
       "      <td>0.0</td>\n",
       "      <td>0.0</td>\n",
       "      <td>1.0</td>\n",
       "      <td>0.0</td>\n",
       "      <td>0.0</td>\n",
       "      <td>0.0</td>\n",
       "    </tr>\n",
       "    <tr>\n",
       "      <th>2</th>\n",
       "      <td>1.0</td>\n",
       "      <td>0.0</td>\n",
       "      <td>0.0</td>\n",
       "      <td>0.0</td>\n",
       "      <td>0.0</td>\n",
       "      <td>0.0</td>\n",
       "    </tr>\n",
       "    <tr>\n",
       "      <th>3</th>\n",
       "      <td>0.0</td>\n",
       "      <td>0.0</td>\n",
       "      <td>0.0</td>\n",
       "      <td>0.0</td>\n",
       "      <td>0.0</td>\n",
       "      <td>1.0</td>\n",
       "    </tr>\n",
       "    <tr>\n",
       "      <th>4</th>\n",
       "      <td>0.0</td>\n",
       "      <td>0.0</td>\n",
       "      <td>0.0</td>\n",
       "      <td>0.0</td>\n",
       "      <td>1.0</td>\n",
       "      <td>0.0</td>\n",
       "    </tr>\n",
       "    <tr>\n",
       "      <th>5</th>\n",
       "      <td>0.0</td>\n",
       "      <td>0.0</td>\n",
       "      <td>0.0</td>\n",
       "      <td>1.0</td>\n",
       "      <td>0.0</td>\n",
       "      <td>0.0</td>\n",
       "    </tr>\n",
       "  </tbody>\n",
       "</table>\n",
       "</div>"
      ],
      "text/plain": [
       "   language_Armenian  language_Bangali  ...  language_Pahari  language_Russian\n",
       "0                0.0               1.0  ...              0.0               0.0\n",
       "1                0.0               0.0  ...              0.0               0.0\n",
       "2                1.0               0.0  ...              0.0               0.0\n",
       "3                0.0               0.0  ...              0.0               1.0\n",
       "4                0.0               0.0  ...              1.0               0.0\n",
       "5                0.0               0.0  ...              0.0               0.0\n",
       "\n",
       "[6 rows x 6 columns]"
      ]
     },
     "execution_count": 20,
     "metadata": {},
     "output_type": "execute_result"
    }
   ],
   "source": [
    "encoder= OneHotEncoder()\n",
    "\n",
    "encoded_data= encoder.fit_transform(df)\n",
    "\n",
    "encoded_df= pd.DataFrame(encoded_data.toarray(), columns=encoder.get_feature_names_out(['language']))\n",
    "encoded_df"
   ]
  },
  {
   "cell_type": "markdown",
   "id": "99e066cb-e22c-4789-b6fb-d059c82a84e0",
   "metadata": {},
   "source": [
    "Label Encoding"
   ]
  },
  {
   "cell_type": "markdown",
   "id": "627cc43a-ada7-4726-86cc-5d20c9522f22",
   "metadata": {},
   "source": [
    "Label encoding is a simple technique that converts categorical data into integer values. Each category is assigned a unique integer value, and these integer values are used as the new feature."
   ]
  },
  {
   "cell_type": "code",
   "execution_count": 21,
   "id": "5403653d-239b-4d6e-aab6-4e5139e5bd3c",
   "metadata": {},
   "outputs": [],
   "source": [
    "from sklearn.preprocessing import LabelEncoder"
   ]
  },
  {
   "cell_type": "code",
   "execution_count": 22,
   "id": "bbc9219a-72ee-485e-b54e-eed7b4d02304",
   "metadata": {},
   "outputs": [
    {
     "data": {
      "text/plain": [
       "array([2, 4, 0, 1, 3])"
      ]
     },
     "execution_count": 22,
     "metadata": {},
     "output_type": "execute_result"
    }
   ],
   "source": [
    "data_flower = ['Lily', 'Rose', 'Jasmine', 'Lavender', 'Orchid']\n",
    "\n",
    "encoder= LabelEncoder()\n",
    "\n",
    "encoded_data= encoder.fit_transform(data_flower)\n",
    "encoded_data\n",
    "\n",
    "## Load the dataset\n",
    "\n",
    "#data = pd.read_csv(‘your_data.csv’)\n",
    "\n",
    "# Initialize the label encoder\n",
    "\n",
    "#label_encoder = LabelEncoder()\n",
    "\n",
    "# Apply label encoding to a specific column\n",
    "\n",
    "#data[‘category_column’] = label_encoder.fit_transform(data[‘category_column’])"
   ]
  },
  {
   "cell_type": "code",
   "execution_count": 23,
   "id": "457cac2d-2ec8-4b5e-af1a-82e07e4fe5e4",
   "metadata": {},
   "outputs": [
    {
     "name": "stdout",
     "output_type": "stream",
     "text": [
      "Original data:  ['Lily', 'Rose', 'Jasmine', 'Lavender', 'Orchid']\n",
      "Label Encoded data:  [2 4 0 1 3]\n",
      "Catagory Mapping:  {'Lily': np.int64(2), 'Rose': np.int64(4), 'Jasmine': np.int64(0), 'Lavender': np.int64(1), 'Orchid': np.int64(3)}\n"
     ]
    }
   ],
   "source": [
    "print(\"Original data: \", data_flower)\n",
    "print(\"Label Encoded data: \", encoded_data)\n",
    "print(\"Catagory Mapping: \", dict(zip(data_flower, encoded_data)))"
   ]
  }
 ],
 "metadata": {
  "kernelspec": {
   "display_name": "Python 3 (ipykernel)",
   "language": "python",
   "name": "python3"
  },
  "language_info": {
   "codemirror_mode": {
    "name": "ipython",
    "version": 3
   },
   "file_extension": ".py",
   "mimetype": "text/x-python",
   "name": "python",
   "nbconvert_exporter": "python",
   "pygments_lexer": "ipython3",
   "version": "3.10.12"
  }
 },
 "nbformat": 4,
 "nbformat_minor": 5
}
