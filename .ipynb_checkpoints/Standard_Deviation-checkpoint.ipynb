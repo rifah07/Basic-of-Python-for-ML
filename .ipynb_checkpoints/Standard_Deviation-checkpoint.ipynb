{
 "cells": [
  {
   "cell_type": "code",
   "execution_count": 30,
   "id": "5f2607d4-fe37-436c-bbff-952ece603a8f",
   "metadata": {},
   "outputs": [
    {
     "name": "stdout",
     "output_type": "stream",
     "text": [
      "Requirement already satisfied: statistics in /home/rifah/myenv/lib/python3.10/site-packages (1.0.3.5)\n",
      "Requirement already satisfied: docutils>=0.3 in /home/rifah/myenv/lib/python3.10/site-packages (from statistics) (0.21.2)\n",
      "Note: you may need to restart the kernel to use updated packages.\n"
     ]
    }
   ],
   "source": [
    "pip install statistics"
   ]
  },
  {
   "cell_type": "code",
   "execution_count": 31,
   "id": "9644e539-8116-4a37-a7bf-85ea2a3f1d0a",
   "metadata": {},
   "outputs": [],
   "source": [
    "data= [1,2,90,100,3,45,6,80,11,5,10,9,1,30,2]"
   ]
  },
  {
   "cell_type": "markdown",
   "id": "7529d20d-72e9-42af-bdf7-6cb9c2767ba1",
   "metadata": {},
   "source": [
    "1. Standard Deviation using \"statistics\" library"
   ]
  },
  {
   "cell_type": "code",
   "execution_count": 32,
   "id": "0ddf8bb4-6e5b-4bf2-b9f6-431371fd5693",
   "metadata": {},
   "outputs": [],
   "source": [
    "import statistics as st"
   ]
  },
  {
   "cell_type": "code",
   "execution_count": 33,
   "id": "77aaa143-83f4-44c9-b111-676329daabdf",
   "metadata": {},
   "outputs": [
    {
     "name": "stdout",
     "output_type": "stream",
     "text": [
      "Sample standard deviation using statistics library is:  35.259581608948444\n"
     ]
    }
   ],
   "source": [
    "#Sample standard deviation\n",
    "standard_deviation= st.stdev(data)\n",
    "print(\"Sample standard deviation using statistics library is: \",standard_deviation)"
   ]
  },
  {
   "cell_type": "code",
   "execution_count": 34,
   "id": "a3f92210-3148-421c-9681-cea0aaaffa9b",
   "metadata": {},
   "outputs": [
    {
     "name": "stdout",
     "output_type": "stream",
     "text": [
      "Population standard deviation using statistics library is:  34.06399206721895\n"
     ]
    }
   ],
   "source": [
    "#Population standard deviation\t\n",
    "\n",
    "p_standard_deviation= st.pstdev(data)\n",
    "print(\"Population standard deviation using statistics library is: \",p_standard_deviation)"
   ]
  },
  {
   "cell_type": "markdown",
   "id": "e4c4a8f3-6348-4f4b-a69e-bedf03132257",
   "metadata": {},
   "source": [
    "2. Standard Deviation using numpy"
   ]
  },
  {
   "cell_type": "code",
   "execution_count": 35,
   "id": "1cc69745-ab94-4685-b4ef-6eef344e8a92",
   "metadata": {},
   "outputs": [],
   "source": [
    "import numpy as np"
   ]
  },
  {
   "cell_type": "code",
   "execution_count": 36,
   "id": "6b774763-2605-46da-850b-3481715c8e70",
   "metadata": {},
   "outputs": [
    {
     "name": "stdout",
     "output_type": "stream",
     "text": [
      "Sample standard deviation using numpy library is:  35.259581608948444\n"
     ]
    }
   ],
   "source": [
    "s_standard_deviation_np= np.std(data, ddof=1)\n",
    "print(\"Sample standard deviation using numpy library is: \",s_standard_deviation_np)"
   ]
  },
  {
   "cell_type": "code",
   "execution_count": 37,
   "id": "74705ae7-b4fe-4de1-9805-5b5d43df8204",
   "metadata": {},
   "outputs": [
    {
     "name": "stdout",
     "output_type": "stream",
     "text": [
      "Population standard deviation using numpy library is:  34.06399206721895\n"
     ]
    }
   ],
   "source": [
    "p_standard_deviation_np= np.std(data)\n",
    "print(\"Population standard deviation using numpy library is: \",p_standard_deviation_np)"
   ]
  },
  {
   "cell_type": "markdown",
   "id": "48bb3733-42bb-4b13-bf5d-08999b725c08",
   "metadata": {},
   "source": [
    "2. Standard Deviation using pandas"
   ]
  },
  {
   "cell_type": "code",
   "execution_count": 38,
   "id": "753f2771-d8d4-4630-a6a3-c3fc2fe2892a",
   "metadata": {},
   "outputs": [],
   "source": [
    "import pandas as pd"
   ]
  },
  {
   "cell_type": "code",
   "execution_count": 39,
   "id": "1244f2ea-6cf7-4abb-9794-af1c0bdda94c",
   "metadata": {},
   "outputs": [],
   "source": [
    "df= pd.DataFrame(data, columns=[\"Numbers\"])"
   ]
  },
  {
   "cell_type": "code",
   "execution_count": 40,
   "id": "56708fbe-5aaf-479a-ac8e-ba7ba801203d",
   "metadata": {},
   "outputs": [
    {
     "name": "stdout",
     "output_type": "stream",
     "text": [
      "Sample standard deviation using pandas library is:  35.259581608948444\n"
     ]
    }
   ],
   "source": [
    "s_standard_deviation_pd= df[\"Numbers\"].std()\t\n",
    "print(\"Sample standard deviation using pandas library is: \",s_standard_deviation_pd)"
   ]
  },
  {
   "cell_type": "code",
   "execution_count": 41,
   "id": "0100a04b-e377-4cb4-aa42-d992746ee71e",
   "metadata": {},
   "outputs": [
    {
     "name": "stdout",
     "output_type": "stream",
     "text": [
      "Population standard deviation using pandas library is:  34.06399206721895\n"
     ]
    }
   ],
   "source": [
    "p_standard_deviation_pd= df[\"Numbers\"].std(ddof=0)\n",
    "print(\"Population standard deviation using pandas library is: \",p_standard_deviation_pd)"
   ]
  }
 ],
 "metadata": {
  "kernelspec": {
   "display_name": "Python 3 (ipykernel)",
   "language": "python",
   "name": "python3"
  },
  "language_info": {
   "codemirror_mode": {
    "name": "ipython",
    "version": 3
   },
   "file_extension": ".py",
   "mimetype": "text/x-python",
   "name": "python",
   "nbconvert_exporter": "python",
   "pygments_lexer": "ipython3",
   "version": "3.10.12"
  }
 },
 "nbformat": 4,
 "nbformat_minor": 5
}
