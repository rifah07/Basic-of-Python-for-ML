{
 "cells": [
  {
   "cell_type": "code",
   "execution_count": null,
   "id": "f2efe84a-201e-4b9f-aa50-81e2a25efb44",
   "metadata": {},
   "outputs": [],
   "source": [
    "https://edu.powerofmantra.org/python-matplotlib-machine-learning-bootstrap-aggregation-bagging/"
   ]
  }
 ],
 "metadata": {
  "kernelspec": {
   "display_name": "Python 3 (ipykernel)",
   "language": "python",
   "name": "python3"
  },
  "language_info": {
   "codemirror_mode": {
    "name": "ipython",
    "version": 3
   },
   "file_extension": ".py",
   "mimetype": "text/x-python",
   "name": "python",
   "nbconvert_exporter": "python",
   "pygments_lexer": "ipython3",
   "version": "3.10.12"
  }
 },
 "nbformat": 4,
 "nbformat_minor": 5
}
