{
 "cells": [
  {
   "cell_type": "code",
   "execution_count": 9,
   "id": "6db5a03b-ec9b-412a-a139-4be114f38a5f",
   "metadata": {},
   "outputs": [],
   "source": [
    "import numpy as np"
   ]
  },
  {
   "cell_type": "code",
   "execution_count": 10,
   "id": "5b5c0854-68e9-40c8-9efc-d6adf5ff0fc7",
   "metadata": {},
   "outputs": [
    {
     "data": {
      "text/plain": [
       "array([172,  47, 117, 192, 323, 251, 195, 359,   9, 211, 277, 242, 292,\n",
       "        87,  70, 472,  88, 396, 314, 193, 486,  39,  87, 174,  88, 337,\n",
       "       165,  25, 333,  72, 265, 404, 115, 464, 243, 197, 335, 431, 448,\n",
       "       338,  99, 472, 177, 243, 285, 147, 147, 398, 423, 288, 449, 265,\n",
       "       185, 127,  32,  31, 202, 244, 151, 163, 459, 370, 183,  28, 290,\n",
       "       128, 128, 420,  53, 389,  38, 488, 244, 273, 335, 388, 105,  42,\n",
       "       442,  31, 376, 257, 321, 487, 425,  57, 291, 358, 119, 267, 430,\n",
       "        82,  91, 384, 398,  99,  53, 396, 121, 426])"
      ]
     },
     "execution_count": 10,
     "metadata": {},
     "output_type": "execute_result"
    }
   ],
   "source": [
    "np.random.seed(0)\n",
    "data= np.random.randint(0,500,100)\n",
    "\n",
    "data"
   ]
  },
  {
   "cell_type": "code",
   "execution_count": 11,
   "id": "e0a04c96-dd9e-413d-b682-621037c8bc4b",
   "metadata": {},
   "outputs": [
    {
     "data": {
      "text/plain": [
       "np.float64(116.5)"
      ]
     },
     "execution_count": 11,
     "metadata": {},
     "output_type": "execute_result"
    }
   ],
   "source": [
    "#Find the quartiles (25th of the array)\n",
    "\n",
    "Percentile= np.percentile(data, 25)\n",
    "Percentile"
   ]
  },
  {
   "cell_type": "code",
   "execution_count": 12,
   "id": "2350a30d-fe73-4f11-a0b8-09a23c7c3685",
   "metadata": {},
   "outputs": [
    {
     "data": {
      "text/plain": [
       "array([116.5, 243.5, 371.5])"
      ]
     },
     "execution_count": 12,
     "metadata": {},
     "output_type": "execute_result"
    }
   ],
   "source": [
    "#Find the quartiles (25th, 50th, and 75th percentiles) of the array\n",
    "\n",
    "Percentile= np.percentile(data, [25,50, 75])\n",
    "Percentile"
   ]
  },
  {
   "cell_type": "markdown",
   "id": "8987ea0a-c690-41a1-8d13-ff3e635e1b26",
   "metadata": {},
   "source": [
    "Get Quartiles in Dataframe"
   ]
  },
  {
   "cell_type": "code",
   "execution_count": 13,
   "id": "84d2a967-6224-4f93-9dd7-baa4fb9e5094",
   "metadata": {},
   "outputs": [],
   "source": [
    "import pandas as pd"
   ]
  },
  {
   "cell_type": "code",
   "execution_count": 14,
   "id": "455a559e-bcc5-4c18-b5ce-c32a0c6e511e",
   "metadata": {},
   "outputs": [
    {
     "data": {
      "text/html": [
       "<div>\n",
       "<style scoped>\n",
       "    .dataframe tbody tr th:only-of-type {\n",
       "        vertical-align: middle;\n",
       "    }\n",
       "\n",
       "    .dataframe tbody tr th {\n",
       "        vertical-align: top;\n",
       "    }\n",
       "\n",
       "    .dataframe thead th {\n",
       "        text-align: right;\n",
       "    }\n",
       "</style>\n",
       "<table border=\"1\" class=\"dataframe\">\n",
       "  <thead>\n",
       "    <tr style=\"text-align: right;\">\n",
       "      <th></th>\n",
       "      <th>var1</th>\n",
       "      <th>var2</th>\n",
       "      <th>var3</th>\n",
       "    </tr>\n",
       "  </thead>\n",
       "  <tbody>\n",
       "    <tr>\n",
       "      <th>0</th>\n",
       "      <td>[85, 204, 325, 48, 640, 132, 181, 144, 661, 22...</td>\n",
       "      <td>[257, 370, 179, 293, 419, 305, 350, 388, 99, 4...</td>\n",
       "      <td>[384, 24, 131, 378, 99, 575, 124, 595, 149, 21...</td>\n",
       "    </tr>\n",
       "  </tbody>\n",
       "</table>\n",
       "</div>"
      ],
      "text/plain": [
       "                                                var1  \\\n",
       "0  [85, 204, 325, 48, 640, 132, 181, 144, 661, 22...   \n",
       "\n",
       "                                                var2  \\\n",
       "0  [257, 370, 179, 293, 419, 305, 350, 388, 99, 4...   \n",
       "\n",
       "                                                var3  \n",
       "0  [384, 24, 131, 378, 99, 575, 124, 595, 149, 21...  "
      ]
     },
     "execution_count": 14,
     "metadata": {},
     "output_type": "execute_result"
    }
   ],
   "source": [
    "data1= {\n",
    "    'var1':[np.random.randint(1,700,20)],\n",
    "    'var2':[np.random.randint(1,500,20)],\n",
    "    'var3': [np.random.randint(1,600,20)]\n",
    "}\n",
    "\n",
    "df= pd.DataFrame(data1)\n",
    "df"
   ]
  },
  {
   "cell_type": "code",
   "execution_count": 15,
   "id": "3723b272-3033-47ae-aba2-59c66def6e33",
   "metadata": {},
   "outputs": [
    {
     "data": {
      "text/plain": [
       "var1    [85.0, 204.0, 325.0, 48.0, 640.0, 132.0, 181.0...\n",
       "var2    [257.0, 370.0, 179.0, 293.0, 419.0, 305.0, 350...\n",
       "var3    [384.0, 24.0, 131.0, 378.0, 99.0, 575.0, 124.0...\n",
       "Name: 0.5, dtype: object"
      ]
     },
     "execution_count": 15,
     "metadata": {},
     "output_type": "execute_result"
    }
   ],
   "source": [
    "precentile1= df.quantile(.50)\n",
    "precentile1"
   ]
  },
  {
   "cell_type": "code",
   "execution_count": 16,
   "id": "9ead760e-d431-4dc7-b193-e7fa0f63b971",
   "metadata": {},
   "outputs": [
    {
     "data": {
      "text/plain": [
       "var1    [85.0, 204.0, 325.0, 48.0, 640.0, 132.0, 181.0...\n",
       "var2    [257.0, 370.0, 179.0, 293.0, 419.0, 305.0, 350...\n",
       "Name: 0.5, dtype: object"
      ]
     },
     "execution_count": 16,
     "metadata": {},
     "output_type": "execute_result"
    }
   ],
   "source": [
    "df[['var1', 'var2']].quantile(.50)"
   ]
  }
 ],
 "metadata": {
  "kernelspec": {
   "display_name": "Python 3 (ipykernel)",
   "language": "python",
   "name": "python3"
  },
  "language_info": {
   "codemirror_mode": {
    "name": "ipython",
    "version": 3
   },
   "file_extension": ".py",
   "mimetype": "text/x-python",
   "name": "python",
   "nbconvert_exporter": "python",
   "pygments_lexer": "ipython3",
   "version": "3.10.12"
  }
 },
 "nbformat": 4,
 "nbformat_minor": 5
}
