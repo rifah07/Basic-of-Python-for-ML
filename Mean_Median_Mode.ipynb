{
 "cells": [
  {
   "cell_type": "code",
   "execution_count": 30,
   "id": "d4723ca9-bf67-4396-b973-03ab60fa871c",
   "metadata": {},
   "outputs": [],
   "source": [
    "data=[1,100,3,7,33,23,34,56,777,800,9,12,4,3,21,3,7]\n",
    "n=len(data)"
   ]
  },
  {
   "cell_type": "code",
   "execution_count": 31,
   "id": "8737b752-9016-4fbf-a57b-3541e7be0dd4",
   "metadata": {},
   "outputs": [],
   "source": [
    "import statistics as st"
   ]
  },
  {
   "cell_type": "markdown",
   "id": "931d2718-2525-40cd-b238-1cfcef62cd84",
   "metadata": {},
   "source": [
    "Mean"
   ]
  },
  {
   "cell_type": "code",
   "execution_count": 32,
   "id": "3f640b25-237d-495a-a017-27cdd0166867",
   "metadata": {},
   "outputs": [
    {
     "name": "stdout",
     "output_type": "stream",
     "text": [
      "Mean is  111.3529411764706\n",
      "Mean by library function is  111.3529411764706\n"
     ]
    }
   ],
   "source": [
    "Mean = sum(data)/n\n",
    "print(\"Mean is \",Mean)\n",
    "\n",
    "mean_by_function= st.mean(data)\n",
    "print(\"Mean by library function is \",mean_by_function)"
   ]
  },
  {
   "cell_type": "markdown",
   "id": "02caf2ec-0505-43bb-ab8b-5407bb4a7449",
   "metadata": {},
   "source": [
    "Median"
   ]
  },
  {
   "cell_type": "code",
   "execution_count": 33,
   "id": "1901543e-5737-460d-ba32-e6bf6b4d8add",
   "metadata": {},
   "outputs": [
    {
     "name": "stdout",
     "output_type": "stream",
     "text": [
      "Median in:  12\n",
      "Median by library function is  12\n"
     ]
    }
   ],
   "source": [
    "data.sort()\n",
    "\n",
    "if n%2 == 0:\n",
    "    median1 = data[n//2]\n",
    "    median2 = data[(n//2) -1]\n",
    "    median= (median1+median2) /2\n",
    "else:\n",
    "    median = data[n//2]\n",
    "print(\"Median in: \",median)\n",
    "\n",
    "\n",
    "median_by_function= st.median(data)\n",
    "print(\"Median by library function is \",median_by_function)"
   ]
  },
  {
   "cell_type": "markdown",
   "id": "261b1c93-6bc6-4e02-83aa-7460a2c98110",
   "metadata": {},
   "source": [
    "Mode"
   ]
  },
  {
   "cell_type": "code",
   "execution_count": 34,
   "id": "6345ac44-72dd-4599-9b8b-37e4752e4259",
   "metadata": {},
   "outputs": [
    {
     "name": "stdout",
     "output_type": "stream",
     "text": [
      "Mode is:  3\n"
     ]
    }
   ],
   "source": [
    "mode_value= st.mode(data)\n",
    "print(\"Mode is: \",mode_value)"
   ]
  }
 ],
 "metadata": {
  "kernelspec": {
   "display_name": "Python 3 (ipykernel)",
   "language": "python",
   "name": "python3"
  },
  "language_info": {
   "codemirror_mode": {
    "name": "ipython",
    "version": 3
   },
   "file_extension": ".py",
   "mimetype": "text/x-python",
   "name": "python",
   "nbconvert_exporter": "python",
   "pygments_lexer": "ipython3",
   "version": "3.10.12"
  }
 },
 "nbformat": 4,
 "nbformat_minor": 5
}
