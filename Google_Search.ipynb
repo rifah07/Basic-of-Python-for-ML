{
 "cells": [
  {
   "cell_type": "code",
   "execution_count": 1,
   "id": "a673ab42-54f5-44c1-8546-328e593ebae3",
   "metadata": {},
   "outputs": [
    {
     "name": "stdout",
     "output_type": "stream",
     "text": [
      "Requirement already satisfied: google in /home/rifah/myenv/lib/python3.10/site-packages (3.0.0)\n",
      "Requirement already satisfied: beautifulsoup4 in /home/rifah/myenv/lib/python3.10/site-packages (from google) (4.12.3)\n",
      "Requirement already satisfied: soupsieve>1.2 in /home/rifah/myenv/lib/python3.10/site-packages (from beautifulsoup4->google) (2.6)\n",
      "Note: you may need to restart the kernel to use updated packages.\n"
     ]
    }
   ],
   "source": [
    "pip install google"
   ]
  },
  {
   "cell_type": "code",
   "execution_count": 2,
   "id": "9817d371-fb72-4450-9947-7eabff836c41",
   "metadata": {},
   "outputs": [],
   "source": [
    "from googlesearch import search"
   ]
  },
  {
   "cell_type": "code",
   "execution_count": 3,
   "id": "05651648-d8db-4908-bb12-6ee1918a6201",
   "metadata": {},
   "outputs": [
    {
     "name": "stdin",
     "output_type": "stream",
     "text": [
      "Ask something to search apple\n"
     ]
    },
    {
     "name": "stdout",
     "output_type": "stream",
     "text": [
      "https://www.apple.com/\n",
      "https://en.wikipedia.org/wiki/Apple_Inc.\n",
      "https://www.icloud.com/\n",
      "https://www.applegadgetsbd.com/\n",
      "http://www.apple.com/\n",
      "http://t1.gstatic.com/images?q=tbn:ANd9GcSjoU2lZ2eJX3aCMfiFDt39uRNcDu9W7pTKcyZymE2iKa7IOVaI\n",
      "https://www.instagram.com/apple/\n",
      "https://www.youtube.com/apple\n",
      "https://www.facebook.com/apple/\n",
      "https://twitter.com/apple?lang=en\n",
      "https://www.amazon.com/stores/Apple/Apple/page/77D9E1F7-0337-4282-9DB6-B6B8FB2DC98D\n",
      "https://istorebd.net/\n",
      "https://www.forbes.com/sites/zakdoffman/2024/12/07/apples-surprising-iphone-update-green-bubbles-end-next-week/\n",
      "https://www.startech.com.bd/apple?srsltid=AfmBOor2rJSsccMZ7QYKY_d3u1mTvwLrwec38_w8bo5hY75Bf429D97-\n",
      "https://www.bbc.com/future/article/20241205-the-apple-library-with-a-lost-world-on-its-limbs\n",
      "https://www.icloud.com/find/\n",
      "https://www.jbhifi.com.au/pages/apple\n",
      "https://appleinsider.com/\n",
      "https://www.youtube.com/watch?v=uarNiSl_uh4\n",
      "https://www.startech.com.bd/apple?srsltid=AfmBOooSLOInTZ76e_hMckLts1M3lrpAmH6eJZ5-kz3KhDoMZkf-Pxh1\n",
      "https://www.food.gov.uk/news-alerts/alert/fsa-prin-54-2024\n",
      "https://www.reddit.com/r/ios/comments/1h9chgy/iphone_keyboard_sucks_with_17_years_of_apple/\n",
      "https://www.britannica.com/plant/apple-fruit-and-tree\n",
      "https://community.ee.co.uk/t5/Apple-Devices/Kids-Apple-Watches/td-p/1482750\n",
      "https://www.economist.com/business/2024/12/08/from-apple-to-starbucks-western-firms-china-dreams-are-dying\n",
      "https://appleempirebd.com/?srsltid=AfmBOopw-c8nc7bjSbNIZjBLG-s77GPPl0lX34WP_MkTUIDGh01x014K\n",
      "https://www.apple.com.cn/\n",
      "https://www.youtube.com/watch?v=EvnJhwIwqds\n",
      "https://techcrunch.com/2024/11/14/new-apple-security-feature-reboots-iphones-after-3-days-researchers-confirm/\n",
      "https://health.clevelandclinic.org/benefits-of-apples\n",
      "https://www.walmart.com/ip/Fresh-Gala-Apple-Each/44390953\n",
      "https://www.tailorbrands.com/blog/apple-logo\n",
      "https://www.medicalnewstoday.com/articles/267290\n",
      "https://thefreshandnatural.com/product/apple-green/\n",
      "https://utsports.com/news/2024/12/7/womens-basketball-lady-vols-knock-off-17-20-iowa-in-big-apple-78-68.aspx\n",
      "https://www.applesfromny.com/varieties/\n",
      "https://www.macworld.com/article/2360280/ai-apple-intelligence-features-iphone-ipad-mac-hardware-requirements.html\n",
      "https://waapple.org/varieties/\n",
      "https://freshindiaorganics.com/products/organic-apple?srsltid=AfmBOoqRyw-ULB6tb5OJYzb1YJcqFq-viv4fIa13KUDFjjKf_sRpKB4n\n",
      "https://www.youtube.com/watch?v=D0V554NyXWM\n",
      "https://www.foodbasics.ca/aisles/fruits-vegetables/fruits/apples-pears/apple/p/3507\n",
      "https://www.prevention.com/food-nutrition/g20481875/apple-varieties-and-recipes/\n",
      "https://hbkonline.in/apple-fruit-powder?srsltid=AfmBOop-vuuazUm_Fp3ZnwsPnCJCG1_OMqPfykeJFbXwVHtO1E-X8J49\n",
      "https://micromobility.io/news/apple-computer\n",
      "https://www.foodandwine.com/types-of-apples-7976165\n",
      "https://www.facebook.com/applestore.com.bd/?locale=en_GB\n",
      "https://ec.europa.eu/commission/presscorner/detail/en/ip_24_6243\n",
      "https://www.ogbete.com.ng/product/apple-x5/\n",
      "https://www.delish.com/kitchen-tools/kitchen-secrets/g40782886/types-of-apples-and-uses/\n",
      "https://www.youtube.com/watch?v=-m_DPp0Ht0o\n",
      "https://www.buildrestfoods.com/product/buy-apple-online/\n",
      "https://naturals.pk/products/apple-kalakulu\n",
      "https://freshsensations.com.au/products/apples-delicious-1kg?srsltid=AfmBOooMpAnXWmnCab4Z2DDkDhOOZ9brWya3qozY28wX9iTYpo5DZZKT\n",
      "https://www.youtube.com/watch?v=oJF2KHNZfVA\n",
      "https://www.istockphoto.com/photo/red-apple-gm184276818-17092601\n",
      "https://www.youtube.com/watch?v=mb9lFkS-Os4\n",
      "https://www.youtube.com/watch?v=yjsnZtN4FxM\n",
      "https://www.youtube.com/watch?v=2Ol9QGwy9pc\n",
      "http://www.pc-news.com/detalle.asp?sid=&id=8&Ida=1070\n",
      "https://www.youtube.com/watch?v=kLS8ImSBIJQ\n",
      "https://www.youtube.com/watch?v=HjBo--1n8lI\n",
      "https://www.youtube.com/watch?v=L8pu7VxZmLE\n",
      "https://www.youtube.com/watch?v=VLmcyzK7OQ8\n",
      "https://www.youtube.com/watch?v=CuOfS_WbfBA\n",
      "https://www.youtube.com/watch?v=4QK5oZfEK2w\n",
      "https://www.youtube.com/watch?v=7oA4AsoltUk\n",
      "https://www.youtube.com/watch?v=UxvA1rQ5IqI\n",
      "https://www.youtube.com/watch?v=apaSPzV3M7I\n",
      "https://www.youtube.com/watch?v=X0VzOyqxcUM\n",
      "https://www.youtube.com/watch?v=xMDCby2MNdI\n",
      "https://www.youtube.com/watch?v=plBM2d1tKT0\n",
      "https://www.youtube.com/watch?v=gkNvwpkJvek\n",
      "https://www.youtube.com/watch?v=E-w6wq9TsiI\n",
      "https://www.youtube.com/watch?v=NZm-3ShuIec\n",
      "https://www.youtube.com/watch?v=eIb5bgHUyuc\n",
      "https://www.youtube.com/watch?v=mzAvK6CYESM\n",
      "https://www.youtube.com/watch?v=YrsiQB0ehX0\n",
      "https://www.youtube.com/watch?v=-JD77GX8BwI\n",
      "https://www.youtube.com/watch?v=VGvv9OWUTCw\n",
      "https://www.youtube.com/watch?v=jfVZIIt_Oos\n",
      "https://www.youtube.com/watch?v=svuiUhpxE78\n",
      "https://www.youtube.com/watch?v=cMW-ph0J6W8\n",
      "https://www.youtube.com/watch?v=uQr54DoseC8\n",
      "https://www.youtube.com/watch?v=CI-_Q3WcNI0\n",
      "https://www.youtube.com/watch?v=noLhH9KOh4g\n",
      "https://www.youtube.com/watch?v=Gd6swTdETTk\n",
      "https://www.youtube.com/watch?v=BDblK4OYRXQ\n",
      "https://www.youtube.com/watch?v=B-kZx5PDz8I\n",
      "https://www.youtube.com/watch?v=ob3prRvoDqE\n"
     ]
    }
   ],
   "source": [
    "query= input(\"Ask something to search\")\n",
    "\n",
    "for url in search(query):\n",
    "    print(url)\n",
    "\n",
    "#code from clcoding.com"
   ]
  }
 ],
 "metadata": {
  "kernelspec": {
   "display_name": "Python 3 (ipykernel)",
   "language": "python",
   "name": "python3"
  },
  "language_info": {
   "codemirror_mode": {
    "name": "ipython",
    "version": 3
   },
   "file_extension": ".py",
   "mimetype": "text/x-python",
   "name": "python",
   "nbconvert_exporter": "python",
   "pygments_lexer": "ipython3",
   "version": "3.10.12"
  }
 },
 "nbformat": 4,
 "nbformat_minor": 5
}
