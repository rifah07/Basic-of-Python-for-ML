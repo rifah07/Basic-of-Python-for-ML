{
 "cells": [
  {
   "cell_type": "code",
   "execution_count": 15,
   "id": "9644e539-8116-4a37-a7bf-85ea2a3f1d0a",
   "metadata": {},
   "outputs": [],
   "source": [
    "data= [1,2,90,100,3,45,6,80,11,5,10,9,1,30,2]"
   ]
  },
  {
   "cell_type": "markdown",
   "id": "7529d20d-72e9-42af-bdf7-6cb9c2767ba1",
   "metadata": {},
   "source": [
    "1. Standard Deviation using \"statistics\" library"
   ]
  },
  {
   "cell_type": "code",
   "execution_count": 16,
   "id": "0ddf8bb4-6e5b-4bf2-b9f6-431371fd5693",
   "metadata": {},
   "outputs": [],
   "source": [
    "import statistics as st"
   ]
  },
  {
   "cell_type": "code",
   "execution_count": 17,
   "id": "77aaa143-83f4-44c9-b111-676329daabdf",
   "metadata": {},
   "outputs": [
    {
     "name": "stdout",
     "output_type": "stream",
     "text": [
      "Sample standard deviation is:  35.259581608948444\n"
     ]
    }
   ],
   "source": [
    "#Sample standard deviation\n",
    "standard_deviation= st.stdev(data)\n",
    "print(\"Sample standard deviation is: \",standard_deviation)"
   ]
  },
  {
   "cell_type": "code",
   "execution_count": 18,
   "id": "a3f92210-3148-421c-9681-cea0aaaffa9b",
   "metadata": {},
   "outputs": [
    {
     "name": "stdout",
     "output_type": "stream",
     "text": [
      "Population standard deviation is:  35.259581608948444\n"
     ]
    }
   ],
   "source": [
    "#Population standard deviation\t\n",
    "\n",
    "p_standard_deviation=st.pstdev(data)\n",
    "print(\"Population standard deviation is: \",standard_deviation)"
   ]
  },
  {
   "cell_type": "markdown",
   "id": "e4c4a8f3-6348-4f4b-a69e-bedf03132257",
   "metadata": {},
   "source": [
    "2. Standard DEviation using numpy"
   ]
  },
  {
   "cell_type": "code",
   "execution_count": 19,
   "id": "1cc69745-ab94-4685-b4ef-6eef344e8a92",
   "metadata": {},
   "outputs": [],
   "source": [
    "import numpy as np"
   ]
  },
  {
   "cell_type": "code",
   "execution_count": 20,
   "id": "74705ae7-b4fe-4de1-9805-5b5d43df8204",
   "metadata": {},
   "outputs": [
    {
     "name": "stdout",
     "output_type": "stream",
     "text": [
      "Population standard deviation is:  34.06399206721895\n"
     ]
    }
   ],
   "source": [
    "standard_deviation_np= np.std(data)\n",
    "print(\"Population standard deviation is: \",standard_deviation_np)"
   ]
  },
  {
   "cell_type": "code",
   "execution_count": null,
   "id": "014fae55-5dea-4cbe-94d9-20c68f8443f3",
   "metadata": {},
   "outputs": [],
   "source": []
  }
 ],
 "metadata": {
  "kernelspec": {
   "display_name": "Python 3 (ipykernel)",
   "language": "python",
   "name": "python3"
  },
  "language_info": {
   "codemirror_mode": {
    "name": "ipython",
    "version": 3
   },
   "file_extension": ".py",
   "mimetype": "text/x-python",
   "name": "python",
   "nbconvert_exporter": "python",
   "pygments_lexer": "ipython3",
   "version": "3.10.12"
  }
 },
 "nbformat": 4,
 "nbformat_minor": 5
}
